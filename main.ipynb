{
 "cells": [
  {
   "cell_type": "markdown",
   "id": "563e171b-3dfb-43b3-bc93-1efe72fd8377",
   "metadata": {},
   "source": [
    "# 1° Atividade de probabilidade\n",
    "## Dupla: Gustavo Pereira e Islan Pereira\n",
    "Nessa atividade escolhemos um dataset que mostra o IDH - Indice de desenvolvimento humano dos países em ordem, do maior para o menor, mostrando também a expectativa de vida e anos de escolaridade dos países."
   ]
  },
  {
   "cell_type": "code",
   "execution_count": 1,
   "id": "941e3da8-0bd7-423e-95f6-16c3c33fc51c",
   "metadata": {},
   "outputs": [
    {
     "data": {
      "text/html": [
       "<div>\n",
       "<style scoped>\n",
       "    .dataframe tbody tr th:only-of-type {\n",
       "        vertical-align: middle;\n",
       "    }\n",
       "\n",
       "    .dataframe tbody tr th {\n",
       "        vertical-align: top;\n",
       "    }\n",
       "\n",
       "    .dataframe thead th {\n",
       "        text-align: right;\n",
       "    }\n",
       "</style>\n",
       "<table border=\"1\" class=\"dataframe\">\n",
       "  <thead>\n",
       "    <tr style=\"text-align: right;\">\n",
       "      <th></th>\n",
       "      <th>HDI_rank</th>\n",
       "      <th>Country</th>\n",
       "      <th>HUMAN_DEVELOPMENT_SITUATION</th>\n",
       "      <th>Human_Development_Index</th>\n",
       "      <th>Life_expectancy_at_birth</th>\n",
       "      <th>Expected_years_of_schooling</th>\n",
       "      <th>Mean years_of_schooling</th>\n",
       "      <th>Gross_national_income_per_capita</th>\n",
       "      <th>GNI_per_capita_rank_minus_HDI_rank</th>\n",
       "    </tr>\n",
       "  </thead>\n",
       "  <tbody>\n",
       "    <tr>\n",
       "      <th>0</th>\n",
       "      <td>1</td>\n",
       "      <td>Switzerland</td>\n",
       "      <td>VERY HIGH</td>\n",
       "      <td>0.962</td>\n",
       "      <td>84.0</td>\n",
       "      <td>16.5</td>\n",
       "      <td>13.9</td>\n",
       "      <td>66,933</td>\n",
       "      <td>5</td>\n",
       "    </tr>\n",
       "    <tr>\n",
       "      <th>1</th>\n",
       "      <td>2</td>\n",
       "      <td>Norway</td>\n",
       "      <td>VERY HIGH</td>\n",
       "      <td>0.961</td>\n",
       "      <td>83.2</td>\n",
       "      <td>18.2</td>\n",
       "      <td>13.0</td>\n",
       "      <td>64,660</td>\n",
       "      <td>6</td>\n",
       "    </tr>\n",
       "    <tr>\n",
       "      <th>2</th>\n",
       "      <td>3</td>\n",
       "      <td>Iceland</td>\n",
       "      <td>VERY HIGH</td>\n",
       "      <td>0.959</td>\n",
       "      <td>82.7</td>\n",
       "      <td>19.2</td>\n",
       "      <td>13.8</td>\n",
       "      <td>55,782</td>\n",
       "      <td>11</td>\n",
       "    </tr>\n",
       "    <tr>\n",
       "      <th>3</th>\n",
       "      <td>4</td>\n",
       "      <td>Hong Kong, China (SAR)</td>\n",
       "      <td>VERY HIGH</td>\n",
       "      <td>0.952</td>\n",
       "      <td>85.5</td>\n",
       "      <td>17.3</td>\n",
       "      <td>12.2</td>\n",
       "      <td>62,607</td>\n",
       "      <td>6</td>\n",
       "    </tr>\n",
       "    <tr>\n",
       "      <th>4</th>\n",
       "      <td>5</td>\n",
       "      <td>Australia</td>\n",
       "      <td>VERY HIGH</td>\n",
       "      <td>0.951</td>\n",
       "      <td>84.5</td>\n",
       "      <td>21.1</td>\n",
       "      <td>12.7</td>\n",
       "      <td>49,238</td>\n",
       "      <td>18</td>\n",
       "    </tr>\n",
       "    <tr>\n",
       "      <th>...</th>\n",
       "      <td>...</td>\n",
       "      <td>...</td>\n",
       "      <td>...</td>\n",
       "      <td>...</td>\n",
       "      <td>...</td>\n",
       "      <td>...</td>\n",
       "      <td>...</td>\n",
       "      <td>...</td>\n",
       "      <td>...</td>\n",
       "    </tr>\n",
       "    <tr>\n",
       "      <th>187</th>\n",
       "      <td>188</td>\n",
       "      <td>Central African Republic</td>\n",
       "      <td>LOW</td>\n",
       "      <td>0.404</td>\n",
       "      <td>53.9</td>\n",
       "      <td>8.0</td>\n",
       "      <td>4.3</td>\n",
       "      <td>966</td>\n",
       "      <td>1</td>\n",
       "    </tr>\n",
       "    <tr>\n",
       "      <th>188</th>\n",
       "      <td>189</td>\n",
       "      <td>Niger</td>\n",
       "      <td>LOW</td>\n",
       "      <td>0.400</td>\n",
       "      <td>61.6</td>\n",
       "      <td>7.0</td>\n",
       "      <td>2.1</td>\n",
       "      <td>1,240</td>\n",
       "      <td>-3</td>\n",
       "    </tr>\n",
       "    <tr>\n",
       "      <th>189</th>\n",
       "      <td>190</td>\n",
       "      <td>Chad</td>\n",
       "      <td>LOW</td>\n",
       "      <td>0.394</td>\n",
       "      <td>52.5</td>\n",
       "      <td>8.0</td>\n",
       "      <td>2.6</td>\n",
       "      <td>1,364</td>\n",
       "      <td>-7</td>\n",
       "    </tr>\n",
       "    <tr>\n",
       "      <th>190</th>\n",
       "      <td>191</td>\n",
       "      <td>South Sudan</td>\n",
       "      <td>LOW</td>\n",
       "      <td>0.385</td>\n",
       "      <td>55.0</td>\n",
       "      <td>5.5</td>\n",
       "      <td>5.7</td>\n",
       "      <td>768</td>\n",
       "      <td>-1</td>\n",
       "    </tr>\n",
       "    <tr>\n",
       "      <th>191</th>\n",
       "      <td>192</td>\n",
       "      <td>North Korea</td>\n",
       "      <td>OTHER</td>\n",
       "      <td>0.000</td>\n",
       "      <td>73.3</td>\n",
       "      <td>10.8</td>\n",
       "      <td>..</td>\n",
       "      <td>..</td>\n",
       "      <td>..</td>\n",
       "    </tr>\n",
       "  </tbody>\n",
       "</table>\n",
       "<p>192 rows × 9 columns</p>\n",
       "</div>"
      ],
      "text/plain": [
       "     HDI_rank                   Country HUMAN_DEVELOPMENT_SITUATION  \\\n",
       "0           1               Switzerland                  VERY HIGH    \n",
       "1           2                    Norway                  VERY HIGH    \n",
       "2           3                   Iceland                  VERY HIGH    \n",
       "3           4    Hong Kong, China (SAR)                  VERY HIGH    \n",
       "4           5                 Australia                  VERY HIGH    \n",
       "..        ...                       ...                         ...   \n",
       "187       188  Central African Republic                         LOW   \n",
       "188       189                     Niger                         LOW   \n",
       "189       190                      Chad                         LOW   \n",
       "190       191               South Sudan                         LOW   \n",
       "191       192               North Korea                      OTHER    \n",
       "\n",
       "     Human_Development_Index  Life_expectancy_at_birth  \\\n",
       "0                      0.962                      84.0   \n",
       "1                      0.961                      83.2   \n",
       "2                      0.959                      82.7   \n",
       "3                      0.952                      85.5   \n",
       "4                      0.951                      84.5   \n",
       "..                       ...                       ...   \n",
       "187                    0.404                      53.9   \n",
       "188                    0.400                      61.6   \n",
       "189                    0.394                      52.5   \n",
       "190                    0.385                      55.0   \n",
       "191                    0.000                      73.3   \n",
       "\n",
       "     Expected_years_of_schooling Mean years_of_schooling  \\\n",
       "0                           16.5                    13.9   \n",
       "1                           18.2                    13.0   \n",
       "2                           19.2                    13.8   \n",
       "3                           17.3                    12.2   \n",
       "4                           21.1                    12.7   \n",
       "..                           ...                     ...   \n",
       "187                          8.0                     4.3   \n",
       "188                          7.0                     2.1   \n",
       "189                          8.0                     2.6   \n",
       "190                          5.5                     5.7   \n",
       "191                         10.8                      ..   \n",
       "\n",
       "    Gross_national_income_per_capita GNI_per_capita_rank_minus_HDI_rank  \n",
       "0                             66,933                                  5  \n",
       "1                             64,660                                  6  \n",
       "2                             55,782                                 11  \n",
       "3                             62,607                                  6  \n",
       "4                             49,238                                 18  \n",
       "..                               ...                                ...  \n",
       "187                              966                                  1  \n",
       "188                            1,240                                 -3  \n",
       "189                            1,364                                 -7  \n",
       "190                              768                                 -1  \n",
       "191                               ..                                 ..  \n",
       "\n",
       "[192 rows x 9 columns]"
      ]
     },
     "metadata": {},
     "output_type": "display_data"
    }
   ],
   "source": [
    "#importando o pandas e bibliotecas\n",
    "import pandas as pd\n",
    "from tabulate import tabulate\n",
    "from matplotlib import pyplot as plt\n",
    "\n",
    "df = pd.read_csv(\".\\HD_dataset.csv\")\n",
    "\n",
    "df = df.iloc[:, :-3]\n",
    "\n",
    "display(df)"
   ]
  },
  {
   "cell_type": "markdown",
   "id": "27d39943-c0e5-4cf3-8a6e-ed0e7df23e72",
   "metadata": {},
   "source": [
    "## Descrevendo as variáveis de acordo com a classificação"
   ]
  },
  {
   "cell_type": "code",
   "execution_count": 2,
   "id": "265ac7a5-db13-4692-9e7c-4699c5445615",
   "metadata": {},
   "outputs": [
    {
     "name": "stdout",
     "output_type": "stream",
     "text": [
      "--------------Dados categóricos não ordenados-----------------\n",
      "\n",
      "\n",
      "Column Country - Coluna dos países, que mostram os países em ordem decrescente do IDH, nenhum dado importa mais que o outro, portanto é não ordenado\n"
     ]
    },
    {
     "data": {
      "text/plain": [
       "0                   Switzerland\n",
       "1                        Norway\n",
       "2                       Iceland\n",
       "3        Hong Kong, China (SAR)\n",
       "4                     Australia\n",
       "                 ...           \n",
       "187    Central African Republic\n",
       "188                       Niger\n",
       "189                        Chad\n",
       "190                 South Sudan\n",
       "191                 North Korea\n",
       "Name: Country, Length: 192, dtype: object"
      ]
     },
     "metadata": {},
     "output_type": "display_data"
    },
    {
     "name": "stdout",
     "output_type": "stream",
     "text": [
      "\n",
      "\n"
     ]
    }
   ],
   "source": [
    "print(\"--------------Dados categóricos não ordenados-----------------\")\n",
    "print(\"\\n\")\n",
    "print(\"Column Country - Coluna dos países, que mostram os países em ordem decrescente do IDH, nenhum dado importa mais que o outro, portanto é não ordenado\")\n",
    "display(df.Country)\n",
    "print(\"\\n\")"
   ]
  },
  {
   "cell_type": "code",
   "execution_count": 3,
   "id": "867827ad-8139-48a3-89c4-f32731ea39a4",
   "metadata": {},
   "outputs": [
    {
     "name": "stdout",
     "output_type": "stream",
     "text": [
      "--------------Dados categóricos ordenados-----------------\n",
      "\n",
      "\n",
      "Column HUMAN DEVELOPMENT SITUATION - que mostra a situação do IDH do país, se é muito alto, baixo, assim por diante... Um dado importa mais que o outro, portanto é ordenado\n"
     ]
    },
    {
     "data": {
      "text/plain": [
       "0      VERY HIGH \n",
       "1      VERY HIGH \n",
       "2      VERY HIGH \n",
       "3      VERY HIGH \n",
       "4      VERY HIGH \n",
       "          ...    \n",
       "187           LOW\n",
       "188           LOW\n",
       "189           LOW\n",
       "190           LOW\n",
       "191        OTHER \n",
       "Name: HUMAN_DEVELOPMENT_SITUATION, Length: 192, dtype: object"
      ]
     },
     "metadata": {},
     "output_type": "display_data"
    },
    {
     "name": "stdout",
     "output_type": "stream",
     "text": [
      "\n",
      "\n"
     ]
    }
   ],
   "source": [
    "print(\"--------------Dados categóricos ordenados-----------------\")\n",
    "print(\"\\n\")\n",
    "print(\"Column HUMAN DEVELOPMENT SITUATION - que mostra a situação do IDH do país, se é muito alto, baixo, assim por diante... Um dado importa mais que o outro, portanto é ordenado\")\n",
    "display(df[\"HUMAN_DEVELOPMENT_SITUATION\"])\n",
    "print(\"\\n\")"
   ]
  },
  {
   "cell_type": "code",
   "execution_count": 13,
   "id": "a14954d6-ba0d-4468-92a0-874f108c29b7",
   "metadata": {},
   "outputs": [
    {
     "name": "stdout",
     "output_type": "stream",
     "text": [
      "--------------Dados numéricos discretos-----------------------\n",
      "\n",
      "\n",
      "Column HDI rank - Mostra o rank do país pelo IDH, com números inteiros\n"
     ]
    },
    {
     "data": {
      "text/plain": [
       "0        1\n",
       "1        2\n",
       "2        3\n",
       "3        4\n",
       "4        5\n",
       "      ... \n",
       "187    188\n",
       "188    189\n",
       "189    190\n",
       "190    191\n",
       "191    192\n",
       "Name: HDI_rank, Length: 192, dtype: int64"
      ]
     },
     "metadata": {},
     "output_type": "display_data"
    },
    {
     "name": "stdout",
     "output_type": "stream",
     "text": [
      "\n",
      "\n",
      "\n",
      "\n",
      "Column GNI per capita rank minus HDI rank - Mostra o rank per capita do país, com números inteiros\n"
     ]
    },
    {
     "data": {
      "text/plain": [
       "0       5\n",
       "1       6\n",
       "2      11\n",
       "3       6\n",
       "4      18\n",
       "       ..\n",
       "187     1\n",
       "188    -3\n",
       "189    -7\n",
       "190    -1\n",
       "191    ..\n",
       "Name: GNI_per_capita_rank_minus_HDI_rank, Length: 192, dtype: object"
      ]
     },
     "metadata": {},
     "output_type": "display_data"
    },
    {
     "name": "stdout",
     "output_type": "stream",
     "text": [
      "\n",
      "\n"
     ]
    }
   ],
   "source": [
    "print(\"--------------Dados numéricos discretos-----------------------\")\n",
    "print(\"\\n\")\n",
    "print(\"Column HDI rank - Mostra o rank do país pelo IDH, com números inteiros\")\n",
    "display(df[\"HDI_rank\"])\n",
    "print(\"\\n\")\n",
    "print(\"\\n\")\n",
    "print(\"Column GNI per capita rank minus HDI rank - Mostra o rank per capita do país, com números inteiros\")\n",
    "display(df[\"GNI_per_capita_rank_minus_HDI_rank\"])\n",
    "print(\"\\n\")"
   ]
  },
  {
   "cell_type": "code",
   "execution_count": 14,
   "id": "3cf440bc-2dd1-43fd-a921-fb1091b50fbb",
   "metadata": {},
   "outputs": [
    {
     "name": "stdout",
     "output_type": "stream",
     "text": [
      "--------------Dados numéricos Continuos-----------------------\n",
      "\n",
      "\n",
      "Column Human Development Index - Mosta o valor exato em float do IDH do país \n"
     ]
    },
    {
     "data": {
      "text/plain": [
       "0      0.962\n",
       "1      0.961\n",
       "2      0.959\n",
       "3      0.952\n",
       "4      0.951\n",
       "       ...  \n",
       "187    0.404\n",
       "188    0.400\n",
       "189    0.394\n",
       "190    0.385\n",
       "191    0.000\n",
       "Name: Human_Development_Index, Length: 192, dtype: float64"
      ]
     },
     "metadata": {},
     "output_type": "display_data"
    },
    {
     "name": "stdout",
     "output_type": "stream",
     "text": [
      "\n",
      "\n",
      "\n",
      "\n",
      "Column Life expectancy at birth - Mostra a espectativa de vida em float do país\n"
     ]
    },
    {
     "data": {
      "text/plain": [
       "0      84.0\n",
       "1      83.2\n",
       "2      82.7\n",
       "3      85.5\n",
       "4      84.5\n",
       "       ... \n",
       "187    53.9\n",
       "188    61.6\n",
       "189    52.5\n",
       "190    55.0\n",
       "191    73.3\n",
       "Name: Life_expectancy_at_birth, Length: 192, dtype: float64"
      ]
     },
     "metadata": {},
     "output_type": "display_data"
    },
    {
     "name": "stdout",
     "output_type": "stream",
     "text": [
      "\n",
      "\n",
      "\n",
      "\n",
      "Column Expected years of schooling - Mostra a espectativa de vida esperada no país em float\n"
     ]
    },
    {
     "data": {
      "text/plain": [
       "0      16.5\n",
       "1      18.2\n",
       "2      19.2\n",
       "3      17.3\n",
       "4      21.1\n",
       "       ... \n",
       "187     8.0\n",
       "188     7.0\n",
       "189     8.0\n",
       "190     5.5\n",
       "191    10.8\n",
       "Name: Expected_years_of_schooling, Length: 192, dtype: float64"
      ]
     },
     "metadata": {},
     "output_type": "display_data"
    },
    {
     "name": "stdout",
     "output_type": "stream",
     "text": [
      "\n",
      "\n",
      "\n",
      "\n",
      "Column Mean years_of_schooling - Mostra a média da espectativa de vida do país em float\t \n"
     ]
    },
    {
     "data": {
      "text/plain": [
       "0      13.9\n",
       "1      13.0\n",
       "2      13.8\n",
       "3      12.2\n",
       "4      12.7\n",
       "       ... \n",
       "187     4.3\n",
       "188     2.1\n",
       "189     2.6\n",
       "190     5.7\n",
       "191      ..\n",
       "Name: Mean years_of_schooling, Length: 192, dtype: object"
      ]
     },
     "metadata": {},
     "output_type": "display_data"
    },
    {
     "name": "stdout",
     "output_type": "stream",
     "text": [
      "\n",
      "\n",
      "\n",
      "\n",
      "Column Gross_national_income_per_capita - mostra a Renda nacional bruta per capita do país em float \n"
     ]
    },
    {
     "data": {
      "text/plain": [
       "0      66,933\n",
       "1      64,660\n",
       "2      55,782\n",
       "3      62,607\n",
       "4      49,238\n",
       "        ...  \n",
       "187       966\n",
       "188     1,240\n",
       "189     1,364\n",
       "190       768\n",
       "191        ..\n",
       "Name: Gross_national_income_per_capita, Length: 192, dtype: object"
      ]
     },
     "metadata": {},
     "output_type": "display_data"
    },
    {
     "name": "stdout",
     "output_type": "stream",
     "text": [
      "\n",
      "\n"
     ]
    }
   ],
   "source": [
    "print(\"--------------Dados numéricos Continuos-----------------------\")\n",
    "print(\"\\n\")\n",
    "print(\"Column Human Development Index - Mosta o valor exato em float do IDH do país \")\n",
    "display(df[\"Human_Development_Index\"])\n",
    "print(\"\\n\")\n",
    "print(\"\\n\")\n",
    "print(\"Column Life expectancy at birth - Mostra a espectativa de vida em float do país\")\n",
    "display(df[\"Life_expectancy_at_birth\"])\n",
    "print(\"\\n\")\n",
    "print(\"\\n\")\n",
    "print(\"Column Expected years of schooling - Mostra a espectativa de vida esperada no país em float\")\n",
    "display(df[\"Expected_years_of_schooling\"])\n",
    "print(\"\\n\")\n",
    "print(\"\\n\")\n",
    "print(\"Column Mean years_of_schooling - Mostra a média da espectativa de vida do país em float\t \")\n",
    "display(df[\"Mean years_of_schooling\"])\n",
    "print(\"\\n\")\n",
    "print(\"\\n\")\n",
    "print(\"Column Gross_national_income_per_capita - mostra a Renda nacional bruta per capita do país em float \")\n",
    "display(df[\"Gross_national_income_per_capita\"])\n",
    "print(\"\\n\")"
   ]
  },
  {
   "cell_type": "markdown",
   "id": "7c639674-5815-4d17-8771-92f93d1bdd6d",
   "metadata": {},
   "source": [
    "## Criando as tabelas de frequência"
   ]
  },
  {
   "cell_type": "code",
   "execution_count": 6,
   "id": "f2b1fb44-4343-4337-b2be-54b5b54d0975",
   "metadata": {},
   "outputs": [
    {
     "name": "stdout",
     "output_type": "stream",
     "text": [
      "Tabela de frequencia das categorias do IDH, que mostram se um país possui um IDH alto, baixo, entre outros... É um dado categórico ordenado\n",
      "┌─────────────┬──────────────┐\n",
      "│ Categoria   │   Frequência │\n",
      "├─────────────┼──────────────┤\n",
      "│ VERY HIGH   │           66 │\n",
      "├─────────────┼──────────────┤\n",
      "│ HIGH        │           49 │\n",
      "├─────────────┼──────────────┤\n",
      "│ MEDIUM      │           44 │\n",
      "├─────────────┼──────────────┤\n",
      "│ LOW         │           32 │\n",
      "├─────────────┼──────────────┤\n",
      "│ OTHER       │            1 │\n",
      "└─────────────┴──────────────┘\n"
     ]
    }
   ],
   "source": [
    "print('Tabela de frequencia das categorias do IDH, que mostram se um país possui um IDH alto, baixo, entre outros... É um dado categórico ordenado')\n",
    "freq = dict()\n",
    "for category in df[\"HUMAN_DEVELOPMENT_SITUATION\"].tolist():\n",
    "    if category in freq.keys():\n",
    "        freq[category] += 1\n",
    "    else:\n",
    "        freq[category] = 1\n",
    "\n",
    "freq_list = [(k,freq[k]) for k in freq.keys()]\n",
    "\n",
    "print(tabulate(freq_list, headers=[\"Categoria\",\"Frequência\"], tablefmt = \"simple_grid\"))"
   ]
  },
  {
   "cell_type": "code",
   "execution_count": 7,
   "id": "7cac0d41-3e8a-4796-8bbe-6479de2989da",
   "metadata": {},
   "outputs": [
    {
     "name": "stdout",
     "output_type": "stream",
     "text": [
      "Faixa das espectativas de vida\n"
     ]
    },
    {
     "data": {
      "text/html": [
       "<div>\n",
       "<style scoped>\n",
       "    .dataframe tbody tr th:only-of-type {\n",
       "        vertical-align: middle;\n",
       "    }\n",
       "\n",
       "    .dataframe tbody tr th {\n",
       "        vertical-align: top;\n",
       "    }\n",
       "\n",
       "    .dataframe thead th {\n",
       "        text-align: right;\n",
       "    }\n",
       "</style>\n",
       "<table border=\"1\" class=\"dataframe\">\n",
       "  <thead>\n",
       "    <tr style=\"text-align: right;\">\n",
       "      <th></th>\n",
       "      <th>Life_expectancy_at_birth</th>\n",
       "      <th>Expectativa_vida</th>\n",
       "    </tr>\n",
       "  </thead>\n",
       "  <tbody>\n",
       "    <tr>\n",
       "      <th>0</th>\n",
       "      <td>84.0</td>\n",
       "      <td>[78.9, 85.533)</td>\n",
       "    </tr>\n",
       "    <tr>\n",
       "      <th>1</th>\n",
       "      <td>83.2</td>\n",
       "      <td>[78.9, 85.533)</td>\n",
       "    </tr>\n",
       "    <tr>\n",
       "      <th>2</th>\n",
       "      <td>82.7</td>\n",
       "      <td>[78.9, 85.533)</td>\n",
       "    </tr>\n",
       "    <tr>\n",
       "      <th>3</th>\n",
       "      <td>85.5</td>\n",
       "      <td>[78.9, 85.533)</td>\n",
       "    </tr>\n",
       "    <tr>\n",
       "      <th>4</th>\n",
       "      <td>84.5</td>\n",
       "      <td>[78.9, 85.533)</td>\n",
       "    </tr>\n",
       "    <tr>\n",
       "      <th>...</th>\n",
       "      <td>...</td>\n",
       "      <td>...</td>\n",
       "    </tr>\n",
       "    <tr>\n",
       "      <th>187</th>\n",
       "      <td>53.9</td>\n",
       "      <td>[52.5, 59.1)</td>\n",
       "    </tr>\n",
       "    <tr>\n",
       "      <th>188</th>\n",
       "      <td>61.6</td>\n",
       "      <td>[59.1, 65.7)</td>\n",
       "    </tr>\n",
       "    <tr>\n",
       "      <th>189</th>\n",
       "      <td>52.5</td>\n",
       "      <td>[52.5, 59.1)</td>\n",
       "    </tr>\n",
       "    <tr>\n",
       "      <th>190</th>\n",
       "      <td>55.0</td>\n",
       "      <td>[52.5, 59.1)</td>\n",
       "    </tr>\n",
       "    <tr>\n",
       "      <th>191</th>\n",
       "      <td>73.3</td>\n",
       "      <td>[72.3, 78.9)</td>\n",
       "    </tr>\n",
       "  </tbody>\n",
       "</table>\n",
       "<p>192 rows × 2 columns</p>\n",
       "</div>"
      ],
      "text/plain": [
       "     Life_expectancy_at_birth Expectativa_vida\n",
       "0                        84.0   [78.9, 85.533)\n",
       "1                        83.2   [78.9, 85.533)\n",
       "2                        82.7   [78.9, 85.533)\n",
       "3                        85.5   [78.9, 85.533)\n",
       "4                        84.5   [78.9, 85.533)\n",
       "..                        ...              ...\n",
       "187                      53.9     [52.5, 59.1)\n",
       "188                      61.6     [59.1, 65.7)\n",
       "189                      52.5     [52.5, 59.1)\n",
       "190                      55.0     [52.5, 59.1)\n",
       "191                      73.3     [72.3, 78.9)\n",
       "\n",
       "[192 rows x 2 columns]"
      ]
     },
     "execution_count": 7,
     "metadata": {},
     "output_type": "execute_result"
    }
   ],
   "source": [
    "print('Faixa das espectativas de vida')\n",
    "df[\"Expectativa_vida\"] = pd.cut(df[\"Life_expectancy_at_birth\"], bins = 5, right = False)\n",
    "df[[\"Life_expectancy_at_birth\",\"Expectativa_vida\"]]"
   ]
  },
  {
   "cell_type": "code",
   "execution_count": 8,
   "id": "1a0dcad7-7201-422e-a432-e9ff5ff0fd33",
   "metadata": {},
   "outputs": [
    {
     "name": "stdout",
     "output_type": "stream",
     "text": [
      "Tabela de frequencia das faixas da espectativa de vida, mostrando quandos países tem a espectativa de vida entre cada faixa, sendo este um dado numérico contínuo \n",
      "┌─────────────────────────────────┬───────────────┐\n",
      "│ Faixas da expectativa de vida   │   Ocorrencias │\n",
      "├─────────────────────────────────┼───────────────┤\n",
      "│ [78.9, 85.533)                  │            35 │\n",
      "├─────────────────────────────────┼───────────────┤\n",
      "│ [72.3, 78.9)                    │            56 │\n",
      "├─────────────────────────────────┼───────────────┤\n",
      "│ [65.7, 72.3)                    │            55 │\n",
      "├─────────────────────────────────┼───────────────┤\n",
      "│ [59.1, 65.7)                    │            37 │\n",
      "├─────────────────────────────────┼───────────────┤\n",
      "│ [52.5, 59.1)                    │             9 │\n",
      "└─────────────────────────────────┴───────────────┘\n"
     ]
    }
   ],
   "source": [
    "print('Tabela de frequencia das faixas da espectativa de vida, mostrando quandos países tem a espectativa de vida entre cada faixa, sendo este um dado numérico contínuo ')\n",
    "freq = dict()\n",
    "for category in df[\"Expectativa_vida\"].tolist():\n",
    "    if category in freq.keys():\n",
    "        freq[category] += 1\n",
    "    else:\n",
    "        freq[category] = 1\n",
    "\n",
    "freq_list = [(k,freq[k]) for k in freq.keys()]\n",
    "\n",
    "print(tabulate(freq_list, headers=[\"Faixas da expectativa de vida\",\"Ocorrencias\"], tablefmt = \"simple_grid\"))"
   ]
  },
  {
   "cell_type": "markdown",
   "id": "6c7dc947-a92d-4465-90bf-55352152cd14",
   "metadata": {},
   "source": [
    "# Criando os gráficos"
   ]
  },
  {
   "cell_type": "code",
   "execution_count": 9,
   "id": "31ba7338-f3ce-4785-a67e-84376aad3f0f",
   "metadata": {},
   "outputs": [
    {
     "data": {
      "image/png": "[encoded data removed]",
      "text/plain": [
       "<Figure size 640x480 with 1 Axes>"
      ]
     },
     "metadata": {},
     "output_type": "display_data"
    }
   ],
   "source": [
    "x = list(df['HUMAN_DEVELOPMENT_SITUATION'].value_counts().index)\n",
    "height = list(df['HUMAN_DEVELOPMENT_SITUATION'].value_counts())\n",
    "plt.title(\"Situação do IDH dos países\")\n",
    "plt.bar(x,height)\n",
    "plt.show()"
   ]
  },
  {
   "cell_type": "code",
   "execution_count": 10,
   "id": "33c3c8ec-2c6b-4036-831b-93cadf97c5ae",
   "metadata": {},
   "outputs": [
    {
     "data": {
      "image/png": "[encoded data removed]",
      "text/plain": [
       "<Figure size 640x480 with 1 Axes>"
      ]
     },
     "metadata": {},
     "output_type": "display_data"
    }
   ],
   "source": [
    "df2 = df.sort_values(by='Human_Development_Index', ascending=False)\n",
    "df3 = df2.head(10)\n",
    "\n",
    "x = df3['Country']\n",
    "height = [0.962, 0.961, 0.959, 0.952, 0.951, 0.948, 0.947, 0.945, 0.942, 0.941]\n",
    "\n",
    "plt.bar(x, height)\n",
    "plt.title(\"IDH bruto dos 10 melhores países colocados\")\n",
    "plt.xticks(rotation=90)\n",
    "plt.show()"
   ]
  },
  {
   "cell_type": "code",
   "execution_count": 11,
   "id": "f17b3698-d9ce-41d5-b79a-b8f6a189c2a4",
   "metadata": {},
   "outputs": [
    {
     "name": "stdout",
     "output_type": "stream",
     "text": [
      "Repare que mesmo os piores países possuem uma grande barra no gráfico, porém devemos considerar que a escala é de 1\n"
     ]
    },
    {
     "data": {
      "image/png": "[encoded data removed]",
      "text/plain": [
       "<Figure size 640x480 with 1 Axes>"
      ]
     },
     "metadata": {},
     "output_type": "display_data"
    }
   ],
   "source": [
    "print(\"Repare que mesmo os piores países possuem uma grande barra no gráfico, porém devemos considerar que a escala é de 1\")\n",
    "dfnew = df.sort_values(by='Human_Development_Index', ascending=False)\n",
    "\n",
    "dfof = dfnew.tail(10)\n",
    "\n",
    "x = dfof['Country']\n",
    "height = [0.465, 0.455, 0.449, 0.446, 0.428, 0.426, 0.404, 0.400, 0.394, 0]\n",
    "\n",
    "plt.bar(x, height)\n",
    "plt.title(\"IDH bruto dos 10 piores países colocados\")\n",
    "plt.xticks(rotation=90)\n",
    "plt.show()"
   ]
  },
  {
   "cell_type": "code",
   "execution_count": null,
   "id": "550c9b50-a972-4e82-b9cf-c3e10f214d59",
   "metadata": {},
   "outputs": [],
   "source": []
  }
 ],
 "metadata": {
  "kernelspec": {
   "display_name": "Python 3 (ipykernel)",
   "language": "python",
   "name": "python3"
  },
  "language_info": {
   "codemirror_mode": {
    "name": "ipython",
    "version": 3
   },
   "file_extension": ".py",
   "mimetype": "text/x-python",
   "name": "python",
   "nbconvert_exporter": "python",
   "pygments_lexer": "ipython3",
   "version": "3.11.4"
  }
 },
 "nbformat": 4,
 "nbformat_minor": 5
}
