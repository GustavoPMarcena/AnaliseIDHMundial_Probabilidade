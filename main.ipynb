{
 "cells": [
  {
   "cell_type": "markdown",
   "id": "dadb1c18-caf3-4b26-abb3-3de10a30d635",
   "metadata": {},
   "source": [
    "# 1° Atividade de probabilidade\n",
    "## Dupla: Gustavo Pereira e Islan Pereira\n",
    "Nessa atividade escolhemos um dataset que mostra as senhas mais utilizadas e comuns, junto com o tempo necessário para quebra-las"
   ]
  },
  {
   "cell_type": "code",
   "execution_count": 35,
   "id": "32f11f65-9ae7-470d-bcca-37d3240fee73",
   "metadata": {},
   "outputs": [
    {
     "data": {
      "text/html": [
       "<div>\n",
       "<style scoped>\n",
       "    .dataframe tbody tr th:only-of-type {\n",
       "        vertical-align: middle;\n",
       "    }\n",
       "\n",
       "    .dataframe tbody tr th {\n",
       "        vertical-align: top;\n",
       "    }\n",
       "\n",
       "    .dataframe thead th {\n",
       "        text-align: right;\n",
       "    }\n",
       "</style>\n",
       "<table border=\"1\" class=\"dataframe\">\n",
       "  <thead>\n",
       "    <tr style=\"text-align: right;\">\n",
       "      <th></th>\n",
       "      <th>HDI_rank</th>\n",
       "      <th>Country</th>\n",
       "      <th>HUMAN_DEVELOPMENT_SITUATION</th>\n",
       "      <th>Human_Development_Index</th>\n",
       "      <th>Life_expectancy_at_birth</th>\n",
       "      <th>Expected_years_of_schooling</th>\n",
       "      <th>Mean years_of_schooling</th>\n",
       "      <th>Gross_national_income_per_capita</th>\n",
       "      <th>GNI_per_capita_rank_minus_HDI_rank</th>\n",
       "      <th>HDI_rank.1</th>\n",
       "      <th>Unnamed: 10</th>\n",
       "      <th>Unnamed: 11</th>\n",
       "    </tr>\n",
       "  </thead>\n",
       "  <tbody>\n",
       "    <tr>\n",
       "      <th>0</th>\n",
       "      <td>1</td>\n",
       "      <td>Switzerland</td>\n",
       "      <td>VERY HIGH</td>\n",
       "      <td>0.962</td>\n",
       "      <td>84.0</td>\n",
       "      <td>16.5</td>\n",
       "      <td>13.9</td>\n",
       "      <td>66,933</td>\n",
       "      <td>5</td>\n",
       "      <td>3</td>\n",
       "      <td>NaN</td>\n",
       "      <td>NaN</td>\n",
       "    </tr>\n",
       "    <tr>\n",
       "      <th>1</th>\n",
       "      <td>2</td>\n",
       "      <td>Norway</td>\n",
       "      <td>VERY HIGH</td>\n",
       "      <td>0.961</td>\n",
       "      <td>83.2</td>\n",
       "      <td>18.2</td>\n",
       "      <td>13.0</td>\n",
       "      <td>64,660</td>\n",
       "      <td>6</td>\n",
       "      <td>1</td>\n",
       "      <td>NaN</td>\n",
       "      <td>NaN</td>\n",
       "    </tr>\n",
       "    <tr>\n",
       "      <th>2</th>\n",
       "      <td>3</td>\n",
       "      <td>Iceland</td>\n",
       "      <td>VERY HIGH</td>\n",
       "      <td>0.959</td>\n",
       "      <td>82.7</td>\n",
       "      <td>19.2</td>\n",
       "      <td>13.8</td>\n",
       "      <td>55,782</td>\n",
       "      <td>11</td>\n",
       "      <td>2</td>\n",
       "      <td>NaN</td>\n",
       "      <td>NaN</td>\n",
       "    </tr>\n",
       "    <tr>\n",
       "      <th>3</th>\n",
       "      <td>4</td>\n",
       "      <td>Hong Kong, China (SAR)</td>\n",
       "      <td>VERY HIGH</td>\n",
       "      <td>0.952</td>\n",
       "      <td>85.5</td>\n",
       "      <td>17.3</td>\n",
       "      <td>12.2</td>\n",
       "      <td>62,607</td>\n",
       "      <td>6</td>\n",
       "      <td>4</td>\n",
       "      <td>NaN</td>\n",
       "      <td>NaN</td>\n",
       "    </tr>\n",
       "    <tr>\n",
       "      <th>4</th>\n",
       "      <td>5</td>\n",
       "      <td>Australia</td>\n",
       "      <td>VERY HIGH</td>\n",
       "      <td>0.951</td>\n",
       "      <td>84.5</td>\n",
       "      <td>21.1</td>\n",
       "      <td>12.7</td>\n",
       "      <td>49,238</td>\n",
       "      <td>18</td>\n",
       "      <td>5</td>\n",
       "      <td>NaN</td>\n",
       "      <td>NaN</td>\n",
       "    </tr>\n",
       "    <tr>\n",
       "      <th>...</th>\n",
       "      <td>...</td>\n",
       "      <td>...</td>\n",
       "      <td>...</td>\n",
       "      <td>...</td>\n",
       "      <td>...</td>\n",
       "      <td>...</td>\n",
       "      <td>...</td>\n",
       "      <td>...</td>\n",
       "      <td>...</td>\n",
       "      <td>...</td>\n",
       "      <td>...</td>\n",
       "      <td>...</td>\n",
       "    </tr>\n",
       "    <tr>\n",
       "      <th>187</th>\n",
       "      <td>188</td>\n",
       "      <td>Central African Republic</td>\n",
       "      <td>LOW</td>\n",
       "      <td>0.404</td>\n",
       "      <td>53.9</td>\n",
       "      <td>8.0</td>\n",
       "      <td>4.3</td>\n",
       "      <td>966</td>\n",
       "      <td>1</td>\n",
       "      <td>188</td>\n",
       "      <td>NaN</td>\n",
       "      <td>NaN</td>\n",
       "    </tr>\n",
       "    <tr>\n",
       "      <th>188</th>\n",
       "      <td>189</td>\n",
       "      <td>Niger</td>\n",
       "      <td>LOW</td>\n",
       "      <td>0.400</td>\n",
       "      <td>61.6</td>\n",
       "      <td>7.0</td>\n",
       "      <td>2.1</td>\n",
       "      <td>1,240</td>\n",
       "      <td>-3</td>\n",
       "      <td>189</td>\n",
       "      <td>NaN</td>\n",
       "      <td>NaN</td>\n",
       "    </tr>\n",
       "    <tr>\n",
       "      <th>189</th>\n",
       "      <td>190</td>\n",
       "      <td>Chad</td>\n",
       "      <td>LOW</td>\n",
       "      <td>0.394</td>\n",
       "      <td>52.5</td>\n",
       "      <td>8.0</td>\n",
       "      <td>2.6</td>\n",
       "      <td>1,364</td>\n",
       "      <td>-7</td>\n",
       "      <td>190</td>\n",
       "      <td>NaN</td>\n",
       "      <td>NaN</td>\n",
       "    </tr>\n",
       "    <tr>\n",
       "      <th>190</th>\n",
       "      <td>191</td>\n",
       "      <td>South Sudan</td>\n",
       "      <td>LOW</td>\n",
       "      <td>0.385</td>\n",
       "      <td>55.0</td>\n",
       "      <td>5.5</td>\n",
       "      <td>5.7</td>\n",
       "      <td>768</td>\n",
       "      <td>-1</td>\n",
       "      <td>191</td>\n",
       "      <td>NaN</td>\n",
       "      <td>NaN</td>\n",
       "    </tr>\n",
       "    <tr>\n",
       "      <th>191</th>\n",
       "      <td>192</td>\n",
       "      <td>Korea (Democratic People's Rep. of)</td>\n",
       "      <td>OTHER</td>\n",
       "      <td>..</td>\n",
       "      <td>73.3</td>\n",
       "      <td>10.8</td>\n",
       "      <td>..</td>\n",
       "      <td>..</td>\n",
       "      <td>..</td>\n",
       "      <td>..</td>\n",
       "      <td>NaN</td>\n",
       "      <td>NaN</td>\n",
       "    </tr>\n",
       "  </tbody>\n",
       "</table>\n",
       "<p>192 rows × 12 columns</p>\n",
       "</div>"
      ],
      "text/plain": [
       "     HDI_rank                              Country  \\\n",
       "0           1                          Switzerland   \n",
       "1           2                               Norway   \n",
       "2           3                              Iceland   \n",
       "3           4               Hong Kong, China (SAR)   \n",
       "4           5                            Australia   \n",
       "..        ...                                  ...   \n",
       "187       188             Central African Republic   \n",
       "188       189                                Niger   \n",
       "189       190                                 Chad   \n",
       "190       191                          South Sudan   \n",
       "191       192  Korea (Democratic People's Rep. of)   \n",
       "\n",
       "    HUMAN_DEVELOPMENT_SITUATION Human_Development_Index  \\\n",
       "0                    VERY HIGH                    0.962   \n",
       "1                    VERY HIGH                    0.961   \n",
       "2                    VERY HIGH                    0.959   \n",
       "3                    VERY HIGH                    0.952   \n",
       "4                    VERY HIGH                    0.951   \n",
       "..                          ...                     ...   \n",
       "187                         LOW                   0.404   \n",
       "188                         LOW                   0.400   \n",
       "189                         LOW                   0.394   \n",
       "190                         LOW                   0.385   \n",
       "191                      OTHER                       ..   \n",
       "\n",
       "     Life_expectancy_at_birth  Expected_years_of_schooling  \\\n",
       "0                        84.0                         16.5   \n",
       "1                        83.2                         18.2   \n",
       "2                        82.7                         19.2   \n",
       "3                        85.5                         17.3   \n",
       "4                        84.5                         21.1   \n",
       "..                        ...                          ...   \n",
       "187                      53.9                          8.0   \n",
       "188                      61.6                          7.0   \n",
       "189                      52.5                          8.0   \n",
       "190                      55.0                          5.5   \n",
       "191                      73.3                         10.8   \n",
       "\n",
       "    Mean years_of_schooling Gross_national_income_per_capita  \\\n",
       "0                      13.9                           66,933   \n",
       "1                      13.0                           64,660   \n",
       "2                      13.8                           55,782   \n",
       "3                      12.2                           62,607   \n",
       "4                      12.7                           49,238   \n",
       "..                      ...                              ...   \n",
       "187                     4.3                              966   \n",
       "188                     2.1                            1,240   \n",
       "189                     2.6                            1,364   \n",
       "190                     5.7                              768   \n",
       "191                      ..                               ..   \n",
       "\n",
       "    GNI_per_capita_rank_minus_HDI_rank HDI_rank.1  Unnamed: 10  Unnamed: 11  \n",
       "0                                    5          3          NaN          NaN  \n",
       "1                                    6          1          NaN          NaN  \n",
       "2                                   11          2          NaN          NaN  \n",
       "3                                    6          4          NaN          NaN  \n",
       "4                                   18          5          NaN          NaN  \n",
       "..                                 ...        ...          ...          ...  \n",
       "187                                  1        188          NaN          NaN  \n",
       "188                                 -3        189          NaN          NaN  \n",
       "189                                 -7        190          NaN          NaN  \n",
       "190                                 -1        191          NaN          NaN  \n",
       "191                                 ..         ..          NaN          NaN  \n",
       "\n",
       "[192 rows x 12 columns]"
      ]
     },
     "metadata": {},
     "output_type": "display_data"
    }
   ],
   "source": [
    "#importando o pandas e bibliotecas\n",
    "import pandas as pd\n",
    "from tabulate import tabulate\n",
    "from matplotlib import pyplot as plt\n",
    "\n",
    "df = pd.read_csv(\".\\HD_dataset.csv\")\n",
    "\n",
    "display(df)"
   ]
  },
  {
   "cell_type": "markdown",
   "id": "69d88930-bf05-42b3-a4cf-97cf026e1ea0",
   "metadata": {},
   "source": [
    "## Descrevendo as variáveis de acordo com a classificação"
   ]
  },
  {
   "cell_type": "code",
   "execution_count": 36,
   "id": "4c0549a7-e2c9-4aa6-8c12-9206042aa3ae",
   "metadata": {},
   "outputs": [
    {
     "name": "stdout",
     "output_type": "stream",
     "text": [
      "--------------Dados categóricos não ordenados-----------------\n",
      "\n",
      "\n",
      "Column Password\n"
     ]
    },
    {
     "data": {
      "text/plain": [
       "0                              Switzerland\n",
       "1                                   Norway\n",
       "2                                  Iceland\n",
       "3                   Hong Kong, China (SAR)\n",
       "4                                Australia\n",
       "                      ...                 \n",
       "187               Central African Republic\n",
       "188                                  Niger\n",
       "189                                   Chad\n",
       "190                            South Sudan\n",
       "191    Korea (Democratic People's Rep. of)\n",
       "Name: Country, Length: 192, dtype: object"
      ]
     },
     "metadata": {},
     "output_type": "display_data"
    },
    {
     "name": "stdout",
     "output_type": "stream",
     "text": [
      "\n",
      "\n"
     ]
    }
   ],
   "source": [
    "print(\"--------------Dados categóricos não ordenados-----------------\")\n",
    "print(\"\\n\")\n",
    "print(\"Column Password\")\n",
    "display(df.Country)\n",
    "print(\"\\n\")"
   ]
  },
  {
   "cell_type": "code",
   "execution_count": 37,
   "id": "dbad7f9a-7401-4d05-b445-44f0a984c0d5",
   "metadata": {},
   "outputs": [
    {
     "name": "stdout",
     "output_type": "stream",
     "text": [
      "--------------Dados categóricos ordenados-----------------\n",
      "\n",
      "\n",
      "Column Category\n"
     ]
    },
    {
     "data": {
      "text/plain": [
       "0      VERY HIGH \n",
       "1      VERY HIGH \n",
       "2      VERY HIGH \n",
       "3      VERY HIGH \n",
       "4      VERY HIGH \n",
       "          ...    \n",
       "187           LOW\n",
       "188           LOW\n",
       "189           LOW\n",
       "190           LOW\n",
       "191        OTHER \n",
       "Name: HUMAN_DEVELOPMENT_SITUATION, Length: 192, dtype: object"
      ]
     },
     "metadata": {},
     "output_type": "display_data"
    },
    {
     "name": "stdout",
     "output_type": "stream",
     "text": [
      "\n",
      "\n"
     ]
    }
   ],
   "source": [
    "print(\"--------------Dados categóricos ordenados-----------------\")\n",
    "print(\"\\n\")\n",
    "print(\"Column Category\")\n",
    "display(df[\"HUMAN_DEVELOPMENT_SITUATION\"])\n",
    "print(\"\\n\")\n"
   ]
  },
  {
   "cell_type": "code",
   "execution_count": 38,
   "id": "ed4ed8fd-3d1d-4704-9c3e-ae4f95bd23a2",
   "metadata": {},
   "outputs": [
    {
     "name": "stdout",
     "output_type": "stream",
     "text": [
      "--------------Dados numéricos discretos-----------------------\n",
      "\n",
      "\n",
      "Column HDI rank\n"
     ]
    },
    {
     "data": {
      "text/plain": [
       "0        1\n",
       "1        2\n",
       "2        3\n",
       "3        4\n",
       "4        5\n",
       "      ... \n",
       "187    188\n",
       "188    189\n",
       "189    190\n",
       "190    191\n",
       "191    192\n",
       "Name: HDI_rank, Length: 192, dtype: int64"
      ]
     },
     "metadata": {},
     "output_type": "display_data"
    },
    {
     "name": "stdout",
     "output_type": "stream",
     "text": [
      "\n",
      "\n",
      "\n",
      "\n",
      "Column GNI per capita rank minus HDI rank\n"
     ]
    },
    {
     "data": {
      "text/plain": [
       "0       5\n",
       "1       6\n",
       "2      11\n",
       "3       6\n",
       "4      18\n",
       "       ..\n",
       "187     1\n",
       "188    -3\n",
       "189    -7\n",
       "190    -1\n",
       "191    ..\n",
       "Name: GNI_per_capita_rank_minus_HDI_rank, Length: 192, dtype: object"
      ]
     },
     "metadata": {},
     "output_type": "display_data"
    },
    {
     "name": "stdout",
     "output_type": "stream",
     "text": [
      "\n",
      "\n",
      "\n",
      "\n",
      "Column strength\n"
     ]
    },
    {
     "data": {
      "text/plain": [
       "0        1\n",
       "1        2\n",
       "2        3\n",
       "3        4\n",
       "4        5\n",
       "      ... \n",
       "187    188\n",
       "188    189\n",
       "189    190\n",
       "190    191\n",
       "191    192\n",
       "Name: HDI_rank, Length: 192, dtype: int64"
      ]
     },
     "metadata": {},
     "output_type": "display_data"
    },
    {
     "name": "stdout",
     "output_type": "stream",
     "text": [
      "\n",
      "\n"
     ]
    }
   ],
   "source": [
    "\n",
    "print(\"--------------Dados numéricos discretos-----------------------\")\n",
    "print(\"\\n\")\n",
    "print(\"Column HDI rank\")\n",
    "display(df[\"HDI_rank\"])\n",
    "print(\"\\n\")\n",
    "print(\"\\n\")\n",
    "print(\"Column GNI per capita rank minus HDI rank\")\n",
    "display(df[\"GNI_per_capita_rank_minus_HDI_rank\"])\n",
    "print(\"\\n\")\n",
    "print(\"\\n\")\n",
    "print(\"Column strength\")\n",
    "display(df[\"HDI_rank\"])\n",
    "print(\"\\n\")\n"
   ]
  },
  {
   "cell_type": "code",
   "execution_count": 27,
   "id": "147a4b59-c25d-4fbc-8583-31a2dc83d295",
   "metadata": {},
   "outputs": [
    {
     "name": "stdout",
     "output_type": "stream",
     "text": [
      "--------------Dados numéricos ordenados-----------------------\n",
      "\n",
      "\n",
      "Column Value \n"
     ]
    },
    {
     "data": {
      "text/plain": [
       "1      84.0\n",
       "2      83.2\n",
       "3      82.7\n",
       "4      85.5\n",
       "5      84.5\n",
       "       ... \n",
       "188    53.9\n",
       "189    61.6\n",
       "190    52.5\n",
       "191    55.0\n",
       "192    73.3\n",
       "Name: Human_Development_Index, Length: 192, dtype: float64"
      ]
     },
     "metadata": {},
     "output_type": "display_data"
    },
    {
     "name": "stdout",
     "output_type": "stream",
     "text": [
      "\n",
      "\n",
      "\n",
      "\n",
      "Column offline_crack_sec\t \n"
     ]
    },
    {
     "data": {
      "text/plain": [
       "1      16.5\n",
       "2      18.2\n",
       "3      19.2\n",
       "4      17.3\n",
       "5      21.1\n",
       "       ... \n",
       "188     8.0\n",
       "189     7.0\n",
       "190     8.0\n",
       "191     5.5\n",
       "192    10.8\n",
       "Name: Life_expectancy_at_birth, Length: 192, dtype: float64"
      ]
     },
     "metadata": {},
     "output_type": "display_data"
    },
    {
     "name": "stdout",
     "output_type": "stream",
     "text": [
      "\n",
      "\n",
      "\n",
      "\n",
      "Column offline_crack_sec\t \n"
     ]
    },
    {
     "data": {
      "text/plain": [
       "1      13.9\n",
       "2      13.0\n",
       "3      13.8\n",
       "4      12.2\n",
       "5      12.7\n",
       "       ... \n",
       "188     4.3\n",
       "189     2.1\n",
       "190     2.6\n",
       "191     5.7\n",
       "192      ..\n",
       "Name: Expected_years_of_schooling, Length: 192, dtype: object"
      ]
     },
     "metadata": {},
     "output_type": "display_data"
    },
    {
     "name": "stdout",
     "output_type": "stream",
     "text": [
      "\n",
      "\n",
      "\n",
      "\n",
      "Column offline_crack_sec\t \n"
     ]
    },
    {
     "data": {
      "text/plain": [
       "1      66,933\n",
       "2      64,660\n",
       "3      55,782\n",
       "4      62,607\n",
       "5      49,238\n",
       "        ...  \n",
       "188       966\n",
       "189     1,240\n",
       "190     1,364\n",
       "191       768\n",
       "192        ..\n",
       "Name: Mean years_of_schooling, Length: 192, dtype: object"
      ]
     },
     "metadata": {},
     "output_type": "display_data"
    },
    {
     "name": "stdout",
     "output_type": "stream",
     "text": [
      "\n",
      "\n",
      "\n",
      "\n",
      "Column offline_crack_sec\t \n"
     ]
    },
    {
     "data": {
      "text/plain": [
       "1       5\n",
       "2       6\n",
       "3      11\n",
       "4       6\n",
       "5      18\n",
       "       ..\n",
       "188     1\n",
       "189    -3\n",
       "190    -7\n",
       "191    -1\n",
       "192    ..\n",
       "Name: Gross_national_income_per_capita, Length: 192, dtype: object"
      ]
     },
     "metadata": {},
     "output_type": "display_data"
    },
    {
     "name": "stdout",
     "output_type": "stream",
     "text": [
      "\n",
      "\n"
     ]
    }
   ],
   "source": [
    "\n",
    "print(\"--------------Dados numéricos ordenados-----------------------\")\n",
    "print(\"\\n\")\n",
    "print(\"Column Value \")\n",
    "display(df[\"Human_Development_Index\"])\n",
    "print(\"\\n\")\n",
    "print(\"\\n\")\n",
    "print(\"Column offline_crack_sec\t \")\n",
    "display(df[\"Life_expectancy_at_birth\"])\n",
    "print(\"\\n\")\n",
    "print(\"\\n\")\n",
    "print(\"Column offline_crack_sec\t \")\n",
    "display(df[\"Expected_years_of_schooling\"])\n",
    "print(\"\\n\")\n",
    "print(\"\\n\")\n",
    "print(\"Column offline_crack_sec\t \")\n",
    "display(df[\"Mean years_of_schooling\"])\n",
    "print(\"\\n\")\n",
    "print(\"\\n\")\n",
    "print(\"Column offline_crack_sec\t \")\n",
    "display(df[\"Gross_national_income_per_capita\"])\n",
    "print(\"\\n\")\n"
   ]
  },
  {
   "cell_type": "markdown",
   "id": "fd8cff81-7583-463a-8bbf-f1aff4103689",
   "metadata": {},
   "source": [
    "## Criando as tabelas de frequência"
   ]
  },
  {
   "cell_type": "code",
   "execution_count": 40,
   "id": "acd9be66-682c-41e5-bfd3-323c0ff8ac27",
   "metadata": {},
   "outputs": [
    {
     "name": "stdout",
     "output_type": "stream",
     "text": [
      "Tabela de frequencia das categorias\n",
      "┌─────────────┬──────────────┐\n",
      "│ Categoria   │   Frequência │\n",
      "├─────────────┼──────────────┤\n",
      "│ VERY HIGH   │           66 │\n",
      "├─────────────┼──────────────┤\n",
      "│ HIGH        │           49 │\n",
      "├─────────────┼──────────────┤\n",
      "│ MEDIUM      │           44 │\n",
      "├─────────────┼──────────────┤\n",
      "│ LOW         │           32 │\n",
      "├─────────────┼──────────────┤\n",
      "│ OTHER       │            1 │\n",
      "└─────────────┴──────────────┘\n"
     ]
    }
   ],
   "source": [
    "print('Tabela de frequencia das categorias')\n",
    "freq = dict()\n",
    "for category in df[\"HUMAN_DEVELOPMENT_SITUATION\"].tolist():\n",
    "    if category in freq.keys():\n",
    "        freq[category] += 1\n",
    "    else:\n",
    "        freq[category] = 1\n",
    "\n",
    "freq_list = [(k,freq[k]) for k in freq.keys()]\n",
    "\n",
    "print(tabulate(freq_list, headers=[\"Categoria\",\"Frequência\"], tablefmt = \"simple_grid\"))\n"
   ]
  },
  {
   "cell_type": "code",
   "execution_count": 72,
   "id": "7d50e43a-5644-4c76-afec-25a7489abea4",
   "metadata": {},
   "outputs": [
    {
     "data": {
      "text/html": [
       "<div>\n",
       "<style scoped>\n",
       "    .dataframe tbody tr th:only-of-type {\n",
       "        vertical-align: middle;\n",
       "    }\n",
       "\n",
       "    .dataframe tbody tr th {\n",
       "        vertical-align: top;\n",
       "    }\n",
       "\n",
       "    .dataframe thead th {\n",
       "        text-align: right;\n",
       "    }\n",
       "</style>\n",
       "<table border=\"1\" class=\"dataframe\">\n",
       "  <thead>\n",
       "    <tr style=\"text-align: right;\">\n",
       "      <th></th>\n",
       "      <th>Life_expectancy_at_birth</th>\n",
       "      <th>Expectativa_vida</th>\n",
       "    </tr>\n",
       "  </thead>\n",
       "  <tbody>\n",
       "    <tr>\n",
       "      <th>0</th>\n",
       "      <td>84.0</td>\n",
       "      <td>[78.9, 85.533)</td>\n",
       "    </tr>\n",
       "    <tr>\n",
       "      <th>1</th>\n",
       "      <td>83.2</td>\n",
       "      <td>[78.9, 85.533)</td>\n",
       "    </tr>\n",
       "    <tr>\n",
       "      <th>2</th>\n",
       "      <td>82.7</td>\n",
       "      <td>[78.9, 85.533)</td>\n",
       "    </tr>\n",
       "    <tr>\n",
       "      <th>3</th>\n",
       "      <td>85.5</td>\n",
       "      <td>[78.9, 85.533)</td>\n",
       "    </tr>\n",
       "    <tr>\n",
       "      <th>4</th>\n",
       "      <td>84.5</td>\n",
       "      <td>[78.9, 85.533)</td>\n",
       "    </tr>\n",
       "    <tr>\n",
       "      <th>...</th>\n",
       "      <td>...</td>\n",
       "      <td>...</td>\n",
       "    </tr>\n",
       "    <tr>\n",
       "      <th>187</th>\n",
       "      <td>53.9</td>\n",
       "      <td>[52.5, 59.1)</td>\n",
       "    </tr>\n",
       "    <tr>\n",
       "      <th>188</th>\n",
       "      <td>61.6</td>\n",
       "      <td>[59.1, 65.7)</td>\n",
       "    </tr>\n",
       "    <tr>\n",
       "      <th>189</th>\n",
       "      <td>52.5</td>\n",
       "      <td>[52.5, 59.1)</td>\n",
       "    </tr>\n",
       "    <tr>\n",
       "      <th>190</th>\n",
       "      <td>55.0</td>\n",
       "      <td>[52.5, 59.1)</td>\n",
       "    </tr>\n",
       "    <tr>\n",
       "      <th>191</th>\n",
       "      <td>73.3</td>\n",
       "      <td>[72.3, 78.9)</td>\n",
       "    </tr>\n",
       "  </tbody>\n",
       "</table>\n",
       "<p>192 rows × 2 columns</p>\n",
       "</div>"
      ],
      "text/plain": [
       "     Life_expectancy_at_birth Expectativa_vida\n",
       "0                        84.0   [78.9, 85.533)\n",
       "1                        83.2   [78.9, 85.533)\n",
       "2                        82.7   [78.9, 85.533)\n",
       "3                        85.5   [78.9, 85.533)\n",
       "4                        84.5   [78.9, 85.533)\n",
       "..                        ...              ...\n",
       "187                      53.9     [52.5, 59.1)\n",
       "188                      61.6     [59.1, 65.7)\n",
       "189                      52.5     [52.5, 59.1)\n",
       "190                      55.0     [52.5, 59.1)\n",
       "191                      73.3     [72.3, 78.9)\n",
       "\n",
       "[192 rows x 2 columns]"
      ]
     },
     "execution_count": 72,
     "metadata": {},
     "output_type": "execute_result"
    }
   ],
   "source": [
    "df[\"Expectativa_vida\"] = pd.cut(df[\"Life_expectancy_at_birth\"], bins = 5, right = False)\n",
    "df[[\"Life_expectancy_at_birth\",\"Expectativa_vida\"]]"
   ]
  },
  {
   "cell_type": "code",
   "execution_count": 73,
   "id": "51cb2813-82a0-46fb-ba18-7b5fd8f5f4c5",
   "metadata": {},
   "outputs": [
    {
     "name": "stdout",
     "output_type": "stream",
     "text": [
      "┌─────────────────────────────────┬───────────────┐\n",
      "│ Faixas da expectativa de vida   │   Ocorrencias │\n",
      "├─────────────────────────────────┼───────────────┤\n",
      "│ [78.9, 85.533)                  │            35 │\n",
      "├─────────────────────────────────┼───────────────┤\n",
      "│ [72.3, 78.9)                    │            56 │\n",
      "├─────────────────────────────────┼───────────────┤\n",
      "│ [65.7, 72.3)                    │            55 │\n",
      "├─────────────────────────────────┼───────────────┤\n",
      "│ [59.1, 65.7)                    │            37 │\n",
      "├─────────────────────────────────┼───────────────┤\n",
      "│ [52.5, 59.1)                    │             9 │\n",
      "└─────────────────────────────────┴───────────────┘\n"
     ]
    }
   ],
   "source": [
    "freq = dict()\n",
    "for category in df[\"Expectativa_vida\"].tolist():\n",
    "    if category in freq.keys():\n",
    "        freq[category] += 1\n",
    "    else:\n",
    "        freq[category] = 1\n",
    "\n",
    "freq_list = [(k,freq[k]) for k in freq.keys()]\n",
    "\n",
    "print(tabulate(freq_list, headers=[\"Faixas da expectativa de vida\",\"Ocorrencias\"], tablefmt = \"simple_grid\"))"
   ]
  },
  {
   "cell_type": "markdown",
   "id": "8489618b-35d2-4136-bc10-e3c779572c48",
   "metadata": {},
   "source": [
    "# Criando os gráficos"
   ]
  },
  {
   "cell_type": "code",
   "execution_count": 41,
   "id": "f913095e-fb25-4c9e-8fea-19d04a9a6d69",
   "metadata": {},
   "outputs": [
    {
     "data": {
      "image/png": "[encoded data removed]",
      "text/plain": [
       "<Figure size 640x480 with 1 Axes>"
      ]
     },
     "metadata": {},
     "output_type": "display_data"
    }
   ],
   "source": [
    "x = list(df['HUMAN_DEVELOPMENT_SITUATION'].value_counts().index)\n",
    "height = list(df['HUMAN_DEVELOPMENT_SITUATION'].value_counts())\n",
    "plt.bar(x,height)\n",
    "plt.show()"
   ]
  },
  {
   "cell_type": "code",
   "execution_count": null,
   "id": "88d1aaf6-4438-4682-a472-0a781947ea19",
   "metadata": {},
   "outputs": [],
   "source": []
  },
  {
   "cell_type": "code",
   "execution_count": null,
   "id": "ea34d270-47f1-41d8-99bb-3db161ade0ab",
   "metadata": {},
   "outputs": [],
   "source": []
  }
 ],
 "metadata": {
  "kernelspec": {
   "display_name": "Python 3 (ipykernel)",
   "language": "python",
   "name": "python3"
  },
  "language_info": {
   "codemirror_mode": {
    "name": "ipython",
    "version": 3
   },
   "file_extension": ".py",
   "mimetype": "text/x-python",
   "name": "python",
   "nbconvert_exporter": "python",
   "pygments_lexer": "ipython3",
   "version": "3.11.4"
  }
 },
 "nbformat": 4,
 "nbformat_minor": 5
}
