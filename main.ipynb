{
 "cells": [
  {
   "cell_type": "markdown",
   "id": "dadb1c18-caf3-4b26-abb3-3de10a30d635",
   "metadata": {},
   "source": [
    "# 1° Atividade de probabilidade\n",
    "## Dupla: Gustavo Pereira e Islan Pereira\n",
    "Nessa atividade escolhemos um dataset que mostra as senhas mais utilizadas e comuns, junto com o tempo necessário para quebra-lá"
   ]
  },
  {
   "cell_type": "code",
   "execution_count": 112,
   "id": "32f11f65-9ae7-470d-bcca-37d3240fee73",
   "metadata": {},
   "outputs": [
    {
     "data": {
      "text/html": [
       "<div>\n",
       "<style scoped>\n",
       "    .dataframe tbody tr th:only-of-type {\n",
       "        vertical-align: middle;\n",
       "    }\n",
       "\n",
       "    .dataframe tbody tr th {\n",
       "        vertical-align: top;\n",
       "    }\n",
       "\n",
       "    .dataframe thead th {\n",
       "        text-align: right;\n",
       "    }\n",
       "</style>\n",
       "<table border=\"1\" class=\"dataframe\">\n",
       "  <thead>\n",
       "    <tr style=\"text-align: right;\">\n",
       "      <th></th>\n",
       "      <th>rank</th>\n",
       "      <th>password</th>\n",
       "      <th>category</th>\n",
       "      <th>value</th>\n",
       "      <th>time_unit</th>\n",
       "      <th>offline_crack_sec</th>\n",
       "      <th>rank_alt</th>\n",
       "      <th>strength</th>\n",
       "      <th>font_size</th>\n",
       "    </tr>\n",
       "  </thead>\n",
       "  <tbody>\n",
       "    <tr>\n",
       "      <th>0</th>\n",
       "      <td>1</td>\n",
       "      <td>password</td>\n",
       "      <td>password-related</td>\n",
       "      <td>6.91</td>\n",
       "      <td>years</td>\n",
       "      <td>2.170000e+00</td>\n",
       "      <td>1</td>\n",
       "      <td>8</td>\n",
       "      <td>11</td>\n",
       "    </tr>\n",
       "    <tr>\n",
       "      <th>1</th>\n",
       "      <td>2</td>\n",
       "      <td>123456</td>\n",
       "      <td>simple-alphanumeric</td>\n",
       "      <td>18.52</td>\n",
       "      <td>minutes</td>\n",
       "      <td>1.110000e-05</td>\n",
       "      <td>2</td>\n",
       "      <td>4</td>\n",
       "      <td>8</td>\n",
       "    </tr>\n",
       "    <tr>\n",
       "      <th>2</th>\n",
       "      <td>3</td>\n",
       "      <td>12345678</td>\n",
       "      <td>simple-alphanumeric</td>\n",
       "      <td>1.29</td>\n",
       "      <td>days</td>\n",
       "      <td>1.110000e-03</td>\n",
       "      <td>3</td>\n",
       "      <td>4</td>\n",
       "      <td>8</td>\n",
       "    </tr>\n",
       "    <tr>\n",
       "      <th>3</th>\n",
       "      <td>4</td>\n",
       "      <td>1234</td>\n",
       "      <td>simple-alphanumeric</td>\n",
       "      <td>11.11</td>\n",
       "      <td>seconds</td>\n",
       "      <td>1.110000e-07</td>\n",
       "      <td>4</td>\n",
       "      <td>4</td>\n",
       "      <td>8</td>\n",
       "    </tr>\n",
       "    <tr>\n",
       "      <th>4</th>\n",
       "      <td>5</td>\n",
       "      <td>qwerty</td>\n",
       "      <td>simple-alphanumeric</td>\n",
       "      <td>3.72</td>\n",
       "      <td>days</td>\n",
       "      <td>3.210000e-03</td>\n",
       "      <td>5</td>\n",
       "      <td>8</td>\n",
       "      <td>11</td>\n",
       "    </tr>\n",
       "    <tr>\n",
       "      <th>...</th>\n",
       "      <td>...</td>\n",
       "      <td>...</td>\n",
       "      <td>...</td>\n",
       "      <td>...</td>\n",
       "      <td>...</td>\n",
       "      <td>...</td>\n",
       "      <td>...</td>\n",
       "      <td>...</td>\n",
       "      <td>...</td>\n",
       "    </tr>\n",
       "    <tr>\n",
       "      <th>495</th>\n",
       "      <td>496</td>\n",
       "      <td>reddog</td>\n",
       "      <td>cool-macho</td>\n",
       "      <td>3.72</td>\n",
       "      <td>days</td>\n",
       "      <td>3.210000e-03</td>\n",
       "      <td>498</td>\n",
       "      <td>6</td>\n",
       "      <td>10</td>\n",
       "    </tr>\n",
       "    <tr>\n",
       "      <th>496</th>\n",
       "      <td>497</td>\n",
       "      <td>alexande</td>\n",
       "      <td>name</td>\n",
       "      <td>6.91</td>\n",
       "      <td>years</td>\n",
       "      <td>2.170000e+00</td>\n",
       "      <td>499</td>\n",
       "      <td>9</td>\n",
       "      <td>12</td>\n",
       "    </tr>\n",
       "    <tr>\n",
       "      <th>497</th>\n",
       "      <td>498</td>\n",
       "      <td>college</td>\n",
       "      <td>nerdy-pop</td>\n",
       "      <td>3.19</td>\n",
       "      <td>months</td>\n",
       "      <td>8.350000e-02</td>\n",
       "      <td>500</td>\n",
       "      <td>7</td>\n",
       "      <td>11</td>\n",
       "    </tr>\n",
       "    <tr>\n",
       "      <th>498</th>\n",
       "      <td>499</td>\n",
       "      <td>jester</td>\n",
       "      <td>name</td>\n",
       "      <td>3.72</td>\n",
       "      <td>days</td>\n",
       "      <td>3.210000e-03</td>\n",
       "      <td>501</td>\n",
       "      <td>7</td>\n",
       "      <td>11</td>\n",
       "    </tr>\n",
       "    <tr>\n",
       "      <th>499</th>\n",
       "      <td>500</td>\n",
       "      <td>passw0rd</td>\n",
       "      <td>password-related</td>\n",
       "      <td>92.27</td>\n",
       "      <td>years</td>\n",
       "      <td>2.902000e+01</td>\n",
       "      <td>502</td>\n",
       "      <td>28</td>\n",
       "      <td>21</td>\n",
       "    </tr>\n",
       "  </tbody>\n",
       "</table>\n",
       "<p>500 rows × 9 columns</p>\n",
       "</div>"
      ],
      "text/plain": [
       "     rank  password             category  value time_unit  offline_crack_sec  \\\n",
       "0       1  password     password-related   6.91     years       2.170000e+00   \n",
       "1       2    123456  simple-alphanumeric  18.52   minutes       1.110000e-05   \n",
       "2       3  12345678  simple-alphanumeric   1.29      days       1.110000e-03   \n",
       "3       4      1234  simple-alphanumeric  11.11   seconds       1.110000e-07   \n",
       "4       5    qwerty  simple-alphanumeric   3.72      days       3.210000e-03   \n",
       "..    ...       ...                  ...    ...       ...                ...   \n",
       "495   496    reddog           cool-macho   3.72      days       3.210000e-03   \n",
       "496   497  alexande                 name   6.91     years       2.170000e+00   \n",
       "497   498   college            nerdy-pop   3.19    months       8.350000e-02   \n",
       "498   499    jester                 name   3.72      days       3.210000e-03   \n",
       "499   500  passw0rd     password-related  92.27     years       2.902000e+01   \n",
       "\n",
       "     rank_alt  strength  font_size  \n",
       "0           1         8         11  \n",
       "1           2         4          8  \n",
       "2           3         4          8  \n",
       "3           4         4          8  \n",
       "4           5         8         11  \n",
       "..        ...       ...        ...  \n",
       "495       498         6         10  \n",
       "496       499         9         12  \n",
       "497       500         7         11  \n",
       "498       501         7         11  \n",
       "499       502        28         21  \n",
       "\n",
       "[500 rows x 9 columns]"
      ]
     },
     "metadata": {},
     "output_type": "display_data"
    }
   ],
   "source": [
    "#importando o pandas e bibliotecas\n",
    "import pandas as pd\n",
    "from tabulate import tabulate\n",
    "from matplotlib import pyplot as plt\n",
    "\n",
    "df = pd.read_csv(\".\\passwords.csv\")\n",
    "\n",
    "display(df)"
   ]
  },
  {
   "cell_type": "markdown",
   "id": "69d88930-bf05-42b3-a4cf-97cf026e1ea0",
   "metadata": {},
   "source": [
    "## Descrevendo as variáveis de acordo com a classificação"
   ]
  },
  {
   "cell_type": "code",
   "execution_count": 109,
   "id": "4c0549a7-e2c9-4aa6-8c12-9206042aa3ae",
   "metadata": {},
   "outputs": [
    {
     "name": "stdout",
     "output_type": "stream",
     "text": [
      "--------------Dados categóricos não ordenados-----------------\n",
      "\n",
      "\n",
      "Column Password\n"
     ]
    },
    {
     "data": {
      "text/plain": [
       "0      password\n",
       "1        123456\n",
       "2      12345678\n",
       "3          1234\n",
       "4        qwerty\n",
       "         ...   \n",
       "495      reddog\n",
       "496    alexande\n",
       "497     college\n",
       "498      jester\n",
       "499    passw0rd\n",
       "Name: password, Length: 500, dtype: object"
      ]
     },
     "metadata": {},
     "output_type": "display_data"
    },
    {
     "name": "stdout",
     "output_type": "stream",
     "text": [
      "\n",
      "\n"
     ]
    }
   ],
   "source": [
    "print(\"--------------Dados categóricos não ordenados-----------------\")\n",
    "print(\"\\n\")\n",
    "print(\"Column Password\")\n",
    "display(df.password)\n",
    "print(\"\\n\")"
   ]
  },
  {
   "cell_type": "code",
   "execution_count": 36,
   "id": "dbad7f9a-7401-4d05-b445-44f0a984c0d5",
   "metadata": {},
   "outputs": [
    {
     "name": "stdout",
     "output_type": "stream",
     "text": [
      "--------------Dados categóricos ordenados-----------------\n",
      "\n",
      "\n",
      "Column Category\n"
     ]
    },
    {
     "data": {
      "text/plain": [
       "0         password-related\n",
       "1      simple-alphanumeric\n",
       "2      simple-alphanumeric\n",
       "3      simple-alphanumeric\n",
       "4      simple-alphanumeric\n",
       "              ...         \n",
       "495             cool-macho\n",
       "496                   name\n",
       "497              nerdy-pop\n",
       "498                   name\n",
       "499       password-related\n",
       "Name: category, Length: 500, dtype: object"
      ]
     },
     "metadata": {},
     "output_type": "display_data"
    },
    {
     "name": "stdout",
     "output_type": "stream",
     "text": [
      "\n",
      "\n",
      "\n",
      "\n",
      "Column Time Unit\n"
     ]
    },
    {
     "data": {
      "text/plain": [
       "0        years\n",
       "1      minutes\n",
       "2         days\n",
       "3      seconds\n",
       "4         days\n",
       "        ...   \n",
       "495       days\n",
       "496      years\n",
       "497     months\n",
       "498       days\n",
       "499      years\n",
       "Name: time_unit, Length: 500, dtype: object"
      ]
     },
     "metadata": {},
     "output_type": "display_data"
    },
    {
     "name": "stdout",
     "output_type": "stream",
     "text": [
      "\n",
      "\n"
     ]
    }
   ],
   "source": [
    "print(\"--------------Dados categóricos ordenados-----------------\")\n",
    "print(\"\\n\")\n",
    "print(\"Column Category\")\n",
    "display(df.category)\n",
    "print(\"\\n\")\n",
    "print(\"\\n\")\n",
    "print(\"Column Time Unit\")\n",
    "display(df.time_unit)\n",
    "print(\"\\n\")"
   ]
  },
  {
   "cell_type": "code",
   "execution_count": 13,
   "id": "ed4ed8fd-3d1d-4704-9c3e-ae4f95bd23a2",
   "metadata": {},
   "outputs": [
    {
     "name": "stdout",
     "output_type": "stream",
     "text": [
      "--------------Dados numéricos discretos-----------------------\n",
      "\n",
      "\n",
      "Column Rank \n"
     ]
    },
    {
     "data": {
      "text/plain": [
       "0        1\n",
       "1        2\n",
       "2        3\n",
       "3        4\n",
       "4        5\n",
       "      ... \n",
       "495    498\n",
       "496    499\n",
       "497    500\n",
       "498    501\n",
       "499    502\n",
       "Name: rank_alt, Length: 500, dtype: int64"
      ]
     },
     "metadata": {},
     "output_type": "display_data"
    },
    {
     "name": "stdout",
     "output_type": "stream",
     "text": [
      "\n",
      "\n",
      "\n",
      "\n",
      "Column strength\n"
     ]
    },
    {
     "data": {
      "text/plain": [
       "0       8\n",
       "1       4\n",
       "2       4\n",
       "3       4\n",
       "4       8\n",
       "       ..\n",
       "495     6\n",
       "496     9\n",
       "497     7\n",
       "498     7\n",
       "499    28\n",
       "Name: strength, Length: 500, dtype: int64"
      ]
     },
     "metadata": {},
     "output_type": "display_data"
    },
    {
     "name": "stdout",
     "output_type": "stream",
     "text": [
      "\n",
      "\n"
     ]
    }
   ],
   "source": [
    "\n",
    "print(\"--------------Dados numéricos discretos-----------------------\")\n",
    "print(\"\\n\")\n",
    "print(\"Column Rank \")\n",
    "display(df.rank_alt)\n",
    "print(\"\\n\")\n",
    "print(\"\\n\")\n",
    "print(\"Column strength\")\n",
    "display(df.strength)\n",
    "print(\"\\n\")\n"
   ]
  },
  {
   "cell_type": "code",
   "execution_count": 7,
   "id": "147a4b59-c25d-4fbc-8583-31a2dc83d295",
   "metadata": {},
   "outputs": [
    {
     "name": "stdout",
     "output_type": "stream",
     "text": [
      "--------------Dados numéricos ordenados-----------------------\n",
      "\n",
      "\n",
      "Column Value \n"
     ]
    },
    {
     "data": {
      "text/plain": [
       "0       6.91\n",
       "1      18.52\n",
       "2       1.29\n",
       "3      11.11\n",
       "4       3.72\n",
       "       ...  \n",
       "495     3.72\n",
       "496     6.91\n",
       "497     3.19\n",
       "498     3.72\n",
       "499    92.27\n",
       "Name: value, Length: 500, dtype: float64"
      ]
     },
     "metadata": {},
     "output_type": "display_data"
    },
    {
     "name": "stdout",
     "output_type": "stream",
     "text": [
      "\n",
      "\n",
      "\n",
      "\n",
      "Column offline_crack_sec\t \n"
     ]
    },
    {
     "data": {
      "text/plain": [
       "0      2.170000e+00\n",
       "1      1.110000e-05\n",
       "2      1.110000e-03\n",
       "3      1.110000e-07\n",
       "4      3.210000e-03\n",
       "           ...     \n",
       "495    3.210000e-03\n",
       "496    2.170000e+00\n",
       "497    8.350000e-02\n",
       "498    3.210000e-03\n",
       "499    2.902000e+01\n",
       "Name: offline_crack_sec, Length: 500, dtype: float64"
      ]
     },
     "metadata": {},
     "output_type": "display_data"
    },
    {
     "name": "stdout",
     "output_type": "stream",
     "text": [
      "\n",
      "\n"
     ]
    }
   ],
   "source": [
    "\n",
    "print(\"--------------Dados numéricos ordenados-----------------------\")\n",
    "print(\"\\n\")\n",
    "print(\"Column Value \")\n",
    "display(df.value)\n",
    "print(\"\\n\")\n",
    "print(\"\\n\")\n",
    "print(\"Column offline_crack_sec\t \")\n",
    "display(df.offline_crack_sec)\n",
    "print(\"\\n\")\n"
   ]
  },
  {
   "cell_type": "markdown",
   "id": "fd8cff81-7583-463a-8bbf-f1aff4103689",
   "metadata": {},
   "source": [
    "## Criando as tabelas de frequência"
   ]
  },
  {
   "cell_type": "code",
   "execution_count": 103,
   "id": "acd9be66-682c-41e5-bfd3-323c0ff8ac27",
   "metadata": {},
   "outputs": [
    {
     "name": "stdout",
     "output_type": "stream",
     "text": [
      "Tabela de frequencia das categorias\n",
      "┌─────────────────────┬──────────────┐\n",
      "│ Categoria           │   Frequência │\n",
      "├─────────────────────┼──────────────┤\n",
      "│ password-related    │           15 │\n",
      "├─────────────────────┼──────────────┤\n",
      "│ simple-alphanumeric │           61 │\n",
      "├─────────────────────┼──────────────┤\n",
      "│ animal              │           29 │\n",
      "├─────────────────────┼──────────────┤\n",
      "│ sport               │           37 │\n",
      "├─────────────────────┼──────────────┤\n",
      "│ cool-macho          │           79 │\n",
      "├─────────────────────┼──────────────┤\n",
      "│ name                │          183 │\n",
      "├─────────────────────┼──────────────┤\n",
      "│ fluffy              │           44 │\n",
      "├─────────────────────┼──────────────┤\n",
      "│ food                │           11 │\n",
      "├─────────────────────┼──────────────┤\n",
      "│ nerdy-pop           │           30 │\n",
      "├─────────────────────┼──────────────┤\n",
      "│ rebellious-rude     │           11 │\n",
      "└─────────────────────┴──────────────┘\n"
     ]
    }
   ],
   "source": [
    "print('Tabela de frequencia das categorias')\n",
    "freq = dict()\n",
    "for category in df.category.tolist():\n",
    "    if category in freq.keys():\n",
    "        freq[category] += 1\n",
    "    else:\n",
    "        freq[category] = 1\n",
    "\n",
    "freq_list = [(k,freq[k]) for k in freq.keys()]\n",
    "\n",
    "print(tabulate(freq_list, headers=[\"Categoria\",\"Frequência\"], tablefmt = \"simple_grid\"))\n"
   ]
  },
  {
   "cell_type": "code",
   "execution_count": 123,
   "id": "7d50e43a-5644-4c76-afec-25a7489abea4",
   "metadata": {},
   "outputs": [
    {
     "name": "stdout",
     "output_type": "stream",
     "text": [
      "┌─────────┬────────────────────┬────────────────────┐\n",
      "│   Valor │ Unidade de tempo   │   Frequência Valor │\n",
      "├─────────┼────────────────────┼────────────────────┤\n",
      "│    3.72 │ days               │                233 │\n",
      "├─────────┼────────────────────┼────────────────────┤\n",
      "│   11.11 │ seconds            │                 11 │\n",
      "├─────────┼────────────────────┼────────────────────┤\n",
      "│    1.29 │ days               │                  5 │\n",
      "├─────────┼────────────────────┼────────────────────┤\n",
      "│    3.7  │ weeks              │                  4 │\n",
      "├─────────┼────────────────────┼────────────────────┤\n",
      "│    3.09 │ hours              │                  3 │\n",
      "├─────────┼────────────────────┼────────────────────┤\n",
      "│    3.43 │ hours              │                 39 │\n",
      "├─────────┼────────────────────┼────────────────────┤\n",
      "│    7.92 │ minutes            │                 31 │\n",
      "├─────────┼────────────────────┼────────────────────┤\n",
      "│    1.84 │ weeks              │                  1 │\n",
      "├─────────┼────────────────────┼────────────────────┤\n",
      "│   18.52 │ minutes            │                 18 │\n",
      "├─────────┼────────────────────┼────────────────────┤\n",
      "│    3.19 │ months             │                 87 │\n",
      "├─────────┼────────────────────┼────────────────────┤\n",
      "│   17.28 │ hours              │                  1 │\n",
      "├─────────┼────────────────────┼────────────────────┤\n",
      "│   92.27 │ years              │                  4 │\n",
      "├─────────┼────────────────────┼────────────────────┤\n",
      "│    1.85 │ minutes            │                  2 │\n",
      "├─────────┼────────────────────┼────────────────────┤\n",
      "│    6.91 │ years              │                 56 │\n",
      "├─────────┼────────────────────┼────────────────────┤\n",
      "│    2.56 │ years              │                  5 │\n",
      "└─────────┴────────────────────┴────────────────────┘\n"
     ]
    }
   ],
   "source": [
    "df.value\n",
    "\n",
    "frequencia = {}\n",
    "for k in df['value'].tolist():\n",
    "    if k in frequencia:\n",
    "        frequencia[k] += 1\n",
    "    else:\n",
    "        frequencia[k] = 1\n",
    "\n",
    "value_time_pairs = list(zip(df['value'].tolist(), df['time_unit'].tolist()))\n",
    "freq = {}\n",
    "for value_time in value_time_pairs:\n",
    "    if value_time in freq:\n",
    "        freq[value_time] += 1\n",
    "    else:\n",
    "        freq[value_time] = 1\n",
    "\n",
    "\n",
    "freq_list = [(value, time_unit, frequencia[value]) for value, time_unit in set(value_time_pairs)]\n",
    "\n",
    "print(tabulate(freq_list, headers=[\"Valor\", \"Unidade de tempo\", \"Frequência Valor\"], tablefmt=\"simple_grid\"))"
   ]
  },
  {
   "cell_type": "markdown",
   "id": "8489618b-35d2-4136-bc10-e3c779572c48",
   "metadata": {},
   "source": [
    "# Criando os gráficos"
   ]
  },
  {
   "cell_type": "code",
   "execution_count": 114,
   "id": "f913095e-fb25-4c9e-8fea-19d04a9a6d69",
   "metadata": {},
   "outputs": [
    {
     "data": {
      "image/png": "[encoded data removed]",
      "text/plain": [
       "<Figure size 640x480 with 1 Axes>"
      ]
     },
     "metadata": {},
     "output_type": "display_data"
    }
   ],
   "source": [
    "x = list(df['time_unit'].value_counts().index)\n",
    "height = list(df['time_unit'].value_counts())\n",
    "plt.bar(x,height)\n",
    "plt.show()"
   ]
  },
  {
   "cell_type": "code",
   "execution_count": 154,
   "id": "88d1aaf6-4438-4682-a472-0a781947ea19",
   "metadata": {},
   "outputs": [
    {
     "data": {
      "image/png": "[encoded data removed]",
      "text/plain": [
       "<Figure size 640x480 with 1 Axes>"
      ]
     },
     "metadata": {},
     "output_type": "display_data"
    }
   ],
   "source": [
    "category_counts = df['category'].value_counts()\n",
    "\n",
    "category_counts_sorted = category_counts.sort_values()\n",
    "\n",
    "x = category_counts_sorted.index.tolist()\n",
    "height = category_counts_sorted.tolist()\n",
    "\n",
    "plt.bar(x, height)\n",
    "plt.xticks(rotation=90)\n",
    "plt.show()"
   ]
  },
  {
   "cell_type": "code",
   "execution_count": null,
   "id": "ea34d270-47f1-41d8-99bb-3db161ade0ab",
   "metadata": {},
   "outputs": [],
   "source": []
  }
 ],
 "metadata": {
  "kernelspec": {
   "display_name": "Python 3 (ipykernel)",
   "language": "python",
   "name": "python3"
  },
  "language_info": {
   "codemirror_mode": {
    "name": "ipython",
    "version": 3
   },
   "file_extension": ".py",
   "mimetype": "text/x-python",
   "name": "python",
   "nbconvert_exporter": "python",
   "pygments_lexer": "ipython3",
   "version": "3.11.4"
  }
 },
 "nbformat": 4,
 "nbformat_minor": 5
}
